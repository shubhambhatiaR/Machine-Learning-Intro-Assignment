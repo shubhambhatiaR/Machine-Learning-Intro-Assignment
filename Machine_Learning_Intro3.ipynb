{
  "nbformat": 4,
  "nbformat_minor": 0,
  "metadata": {
    "colab": {
      "provenance": []
    },
    "kernelspec": {
      "name": "python3",
      "display_name": "Python 3"
    },
    "language_info": {
      "name": "python"
    }
  },
  "cells": [
    {
      "cell_type": "markdown",
      "source": [
        "1. Explain the differences between AI, ML, Deep Learning (DL), and Data\n",
        "Science (DS)\n",
        " - Artificial Intelligence (AI) is the broadest concept among the four—it refers to the development of computer systems that can perform tasks typically requiring human intelligence, such as understanding language, recognizing patterns, solving problems, or making decisions. Within AI, there's a subset called Machine Learning (ML), which focuses on building algorithms that allow computers to learn from data and improve their performance without being explicitly programmed for every task. Going deeper, Deep Learning (DL) is a specialized area within ML that uses artificial neural networks with many layers to process large volumes of complex data, such as images, audio, and text. Deep learning models are capable of automatically learning features from raw data, making them particularly powerful for tasks like speech recognition or image classification. On the other hand, Data Science (DS) is a separate but overlapping field that involves analyzing and interpreting large sets of data to extract insights and support decision-making. Data science draws from various disciplines, including statistics, computer science, and domain-specific knowledge, and often uses machine learning and deep learning tools as part of its process. In summary, AI is the overarching goal of creating intelligent systems, ML and DL are techniques used to achieve that goal, and Data Science is focused on extracting meaning and insights from data, often using AI-related methods\n",
        "\n",
        " 2. What are the types of machine learning? Describe each with one\n",
        "real-world example\n",
        " - Machine Learning (ML) is generally divided into three main types: **Supervised Learning**, **Unsupervised Learning**, and **Reinforcement Learning**. Each type has its own approach to learning from data and solving problems.\n",
        "\n",
        "**Supervised Learning** is the most commonly used type of machine learning. In this approach, the model is trained on a labeled dataset, meaning the input data comes with the correct output. The goal is to learn a mapping from inputs to outputs so that it can make accurate predictions on new, unseen data. For example, in email spam detection, the model is trained on emails that are already labeled as \"spam\" or \"not spam.\" After training, it can predict whether new incoming emails are spam based on their content and metadata.\n",
        "\n",
        "**Unsupervised Learning** deals with data that is not labeled. Instead of learning from predefined answers, the model tries to identify patterns, structures, or relationships in the data. A real-world example of this is customer segmentation in marketing. Companies use unsupervised learning algorithms like clustering to group customers based on their purchasing behavior, allowing marketers to target each segment more effectively without prior knowledge of group categories.\n",
        "\n",
        "**Reinforcement Learning** is a type of learning where an agent learns to make decisions by interacting with an environment. The agent takes actions and receives feedback in the form of rewards or penalties, gradually learning the best strategies to maximize cumulative reward. A classic real-world example is training a robot to walk. The robot tries different movements, gets feedback on how successful each one is (e.g., staying balanced or falling), and over time learns how to walk effectively through trial and error.\n",
        "\n",
        "These three types of machine learning provide different approaches for tackling a wide range of problems, depending on the nature of the data and the goal of the task.\n",
        "\n",
        "3. Define overfitting, underfitting, and the bias-variance tradeoff in machine\n",
        "learning.\n",
        " - In machine learning, **overfitting**, **underfitting**, and the **bias-variance tradeoff** are key concepts related to a model’s ability to generalize to new, unseen data.\n",
        "\n",
        "---\n",
        "\n",
        "### **Overfitting**\n",
        "\n",
        "Overfitting occurs when a model learns the training data **too well**, including its **noise and outliers**, which leads to poor performance on new data. It means the model is too complex and captures patterns that don’t generalize beyond the training set. For example, a model might achieve 100% accuracy on training data but perform poorly on test data because it has memorized specific details instead of learning general patterns.\n",
        "\n",
        "---\n",
        "\n",
        "### **Underfitting**\n",
        "\n",
        "Underfitting happens when a model is **too simple** to capture the underlying patterns in the data. It fails to perform well on both training and test data because it hasn't learned enough from the data. This could be due to using a linear model on a problem that requires more complexity or not training the model long enough.\n",
        "\n",
        "---\n",
        "\n",
        "### **Bias-Variance Tradeoff**\n",
        "\n",
        "The bias-variance tradeoff describes the balance between two sources of error in a model:\n",
        "\n",
        "* **Bias** is the error from overly simplistic assumptions in the model (e.g., assuming a linear relationship when it’s actually nonlinear), which can lead to underfitting.\n",
        "* **Variance** is the error from a model being too sensitive to small fluctuations in the training data, leading to overfitting.\n",
        "\n",
        "Improving a model often involves finding the **right balance**: reducing bias without increasing variance too much, and vice versa. A good machine learning model minimizes both to achieve optimal generalization on unseen data.\n",
        "\n",
        "---\n",
        "\n",
        "In summary:\n",
        "\n",
        "* **Overfitting** = high variance, low bias\n",
        "* **Underfitting** = high bias, low variance\n",
        "* **Bias-Variance Tradeoff** = balancing both to improve model performance\n",
        "\n",
        "4. What are outliers in a dataset, and list three common techniques for\n",
        "handling them.\n",
        "  -  **Outliers** in a dataset are data points that **differ significantly** from other observations. They may occur due to variability in the data, measurement errors, data entry mistakes, or rare events. Outliers can **distort statistical analyses** and negatively impact machine learning models by skewing the results or misleading the training process.\n",
        "\n",
        "---\n",
        "\n",
        "### **Three Common Techniques for Handling Outliers**:\n",
        "\n",
        "1. **Removal (or Filtering)**\n",
        "   If an outlier is clearly due to an error or irrelevant to the analysis, it can be removed. For example, a negative value for age (like -25) in a dataset is likely a data entry error and should be excluded. However, this should be done carefully to avoid losing valuable or rare information.\n",
        "\n",
        "2. **Transformation**\n",
        "   Applying mathematical transformations can reduce the impact of outliers. Common transformations include **logarithmic**, **square root**, or **Box-Cox** transformations, which compress extreme values and make the data distribution more normal (bell-shaped).\n",
        "\n",
        "3. **Imputation or Capping**\n",
        "   In this method, extreme values are replaced with **statistical limits** or **percentile values**. One common approach is **Winsorizing**, where outliers are replaced with values at a specific percentile (e.g., replacing all values above the 95th percentile with the 95th percentile value). Another is using the **IQR (Interquartile Range)** method to cap values outside 1.5×IQR from the first and third quartiles.\n",
        "\n",
        "---\n",
        "\n",
        "5. Explain the process of handling missing values and mention one\n",
        "imputation technique for numerical and one for categorical data\n",
        " -  Handling missing values is a crucial step in data preprocessing, as missing data can lead to inaccurate or biased models if not properly addressed. The process typically involves the following steps:\n",
        "\n",
        "---\n",
        "\n",
        "### **Process of Handling Missing Values**:\n",
        "\n",
        "1. **Identify Missing Data**\n",
        "   Use methods like `.isnull()` in Python (Pandas) or data summaries to detect missing values in the dataset.\n",
        "\n",
        "2. **Analyze the Pattern of Missingness**\n",
        "   Determine whether the data is missing completely at random (MCAR), missing at random (MAR), or missing not at random (MNAR). This helps decide how to handle it appropriately.\n",
        "\n",
        "3. **Decide on a Strategy**\n",
        "   Choose whether to:\n",
        "\n",
        "   * Remove rows or columns with too many missing values (if appropriate)\n",
        "   * Fill (impute) missing values with estimated values\n",
        "   * Use advanced techniques like predictive modeling or iterative imputation\n",
        "\n",
        "4. **Apply the Chosen Method**\n",
        "   Perform the imputation or removal based on the type of data and the method selected.\n",
        "\n",
        "5. **Validate the Result**\n",
        "   After imputation or removal, evaluate the data quality and check the impact on model performance.\n",
        "\n",
        "---\n",
        "\n",
        "### **Imputation Techniques**:\n",
        "\n",
        "* **For Numerical Data**:\n",
        "  **Mean Imputation**\n",
        "  Replace missing values with the **mean** of the non-missing values in that column. For example, if a column \"Age\" has some missing values, you can fill them with the average age of the available data.\n",
        "\n",
        "* **For Categorical Data**:\n",
        "  **Mode Imputation**\n",
        "  Replace missing values with the **mode** (the most frequent category) of the column. For instance, if the \"Gender\" column has missing entries, fill them with the most common gender in the dataset.\n",
        "\n",
        "---\n",
        "\n",
        "These are simple and commonly used techniques, but more advanced methods (like KNN imputation or using regression models) can be applied depending on the data and complexity required.\n",
        "\n",
        "6. Write a Python program that:\n",
        "● Creates a synthetic imbalanced dataset with make_classification() from\n",
        "sklearn.datasets.\n",
        "● Prints the class distribution\n"
      ],
      "metadata": {
        "id": "bkD0rcggYQlE"
      }
    },
    {
      "cell_type": "code",
      "execution_count": 1,
      "metadata": {
        "colab": {
          "base_uri": "https://localhost:8080/"
        },
        "id": "l8WIf29aYIfM",
        "outputId": "bc7476f9-2dc6-4ed0-be07-d4aa5f7b3521"
      },
      "outputs": [
        {
          "output_type": "stream",
          "name": "stdout",
          "text": [
            "Class Distribution:\n",
            "Class 0: 900 samples\n",
            "Class 1: 100 samples\n"
          ]
        }
      ],
      "source": [
        "#code\n",
        "from sklearn.datasets import make_classification\n",
        "from collections import Counter\n",
        "\n",
        "# Step 1: Create a synthetic imbalanced dataset\n",
        "X, y = make_classification(\n",
        "    n_samples=1000,          # Total number of samples\n",
        "    n_features=20,           # Number of features\n",
        "    n_informative=2,         # Number of informative features\n",
        "    n_redundant=10,          # Number of redundant features\n",
        "    n_classes=2,             # Binary classification\n",
        "    weights=[0.9, 0.1],      # Imbalanced: 90% class 0, 10% class 1\n",
        "    flip_y=0,                # No label noise\n",
        "    random_state=1           # Reproducibility\n",
        ")\n",
        "\n",
        "# Step 2: Print the class distribution\n",
        "class_counts = Counter(y)\n",
        "print(\"Class Distribution:\")\n",
        "for cls, count in class_counts.items():\n",
        "    print(f\"Class {cls}: {count} samples\")\n",
        "\n"
      ]
    },
    {
      "cell_type": "markdown",
      "source": [
        "7. Implement one-hot encoding using pandas for the following list of colors:\n",
        "['Red', 'Green', 'Blue', 'Green', 'Red']. Print the resulting dataframe\n",
        "  -  "
      ],
      "metadata": {
        "id": "Fkcixs3qa61a"
      }
    },
    {
      "cell_type": "code",
      "source": [
        "import pandas as pd\n",
        "\n",
        "# List of colors\n",
        "colors = ['Red', 'Green', 'Blue', 'Green', 'Red']\n",
        "\n",
        "# Convert to DataFrame\n",
        "df = pd.DataFrame({'Color': colors})\n",
        "\n",
        "# Apply one-hot encoding\n",
        "one_hot_encoded = pd.get_dummies(df, columns=['Color'])\n",
        "\n",
        "# Print the resulting DataFrame\n",
        "print(one_hot_encoded)\n"
      ],
      "metadata": {
        "colab": {
          "base_uri": "https://localhost:8080/"
        },
        "id": "SVddvAhEaqgF",
        "outputId": "f0e86e33-e3a3-4a4c-ef17-a980d4723b80"
      },
      "execution_count": 3,
      "outputs": [
        {
          "output_type": "stream",
          "name": "stdout",
          "text": [
            "   Color_Blue  Color_Green  Color_Red\n",
            "0       False        False       True\n",
            "1       False         True      False\n",
            "2        True        False      False\n",
            "3       False         True      False\n",
            "4       False        False       True\n"
          ]
        }
      ]
    },
    {
      "cell_type": "markdown",
      "source": [
        "8. Write a Python script to:\n",
        "\n",
        "● Generate 1000 samples from a normal distribution.\n",
        "● Introduce 50 random missing values.\n",
        "● Fill missing values with the column mean.\n",
        "● Plot a histogram before and after imputation.\n"
      ],
      "metadata": {
        "id": "9s9kDvtqbgGT"
      }
    },
    {
      "cell_type": "code",
      "source": [
        "import numpy as np\n",
        "import pandas as pd\n",
        "import matplotlib.pyplot as plt\n",
        "\n",
        "# Step 1: Generate 1000 samples from a normal distribution\n",
        "np.random.seed(42)\n",
        "data = np.random.normal(loc=0, scale=1, size=1000)\n",
        "\n",
        "# Convert to DataFrame\n",
        "df = pd.DataFrame(data, columns=['Value'])\n",
        "\n",
        "# Step 2: Introduce 50 random missing values\n",
        "missing_indices = np.random.choice(df.index, size=50, replace=False)\n",
        "df.loc[missing_indices, 'Value'] = np.nan\n",
        "\n",
        "# Save the version before imputation\n",
        "df_before = df['Value'].copy()\n",
        "\n",
        "# Step 3: Fill missing values with the column mean\n",
        "mean_value = df['Value'].mean()\n",
        "df['Value'].fillna(mean_value, inplace=True)\n",
        "\n",
        "# Step 4: Plot histograms before and after imputation\n",
        "plt.figure(figsize=(12, 5))\n",
        "\n",
        "# Histogram before imputation\n",
        "plt.subplot(1, 2, 1)\n",
        "plt.hist(df_before.dropna(), bins=30, color='skyblue', edgecolor='black')\n",
        "plt.title('Before Imputation')\n",
        "plt.xlabel('Value')\n",
        "plt.ylabel('Frequency')\n",
        "\n",
        "# Histogram after imputation\n",
        "plt.subplot(1, 2, 2)\n",
        "plt.hist(df['Value'], bins=30, color='salmon', edgecolor='black')\n",
        "plt.title('After Imputation (Mean Filled)')\n",
        "plt.xlabel('Value')\n",
        "plt.ylabel('Frequency')\n",
        "\n",
        "plt.tight_layout()\n",
        "plt.show()\n"
      ],
      "metadata": {
        "colab": {
          "base_uri": "https://localhost:8080/",
          "height": 628
        },
        "id": "-4nzQXhlbG0g",
        "outputId": "69ccda12-288a-4f3b-d041-f9f72621e4b8"
      },
      "execution_count": 4,
      "outputs": [
        {
          "output_type": "stream",
          "name": "stderr",
          "text": [
            "/tmp/ipython-input-819416315.py:21: FutureWarning: A value is trying to be set on a copy of a DataFrame or Series through chained assignment using an inplace method.\n",
            "The behavior will change in pandas 3.0. This inplace method will never work because the intermediate object on which we are setting values always behaves as a copy.\n",
            "\n",
            "For example, when doing 'df[col].method(value, inplace=True)', try using 'df.method({col: value}, inplace=True)' or df[col] = df[col].method(value) instead, to perform the operation inplace on the original object.\n",
            "\n",
            "\n",
            "  df['Value'].fillna(mean_value, inplace=True)\n"
          ]
        },
        {
          "output_type": "display_data",
          "data": {
            "text/plain": [
              "<Figure size 1200x500 with 2 Axes>"
            ],
            "image/png": "[encoded data removed]"
          },
          "metadata": {}
        }
      ]
    },
    {
      "cell_type": "code",
      "source": [],
      "metadata": {
        "id": "PLGbFciNbrbX"
      },
      "execution_count": null,
      "outputs": []
    },
    {
      "cell_type": "markdown",
      "source": [
        "9. mplement Min-Max scaling on the following list of numbers [2, 5, 10, 15,\n",
        "20] using sklearn.preprocessing.MinMaxScaler. Print the scaled array.\n"
      ],
      "metadata": {
        "id": "hoKH1gyWcKQx"
      }
    },
    {
      "cell_type": "code",
      "source": [
        "from sklearn.preprocessing import MinMaxScaler\n",
        "import numpy as np\n",
        "\n",
        "# Original data\n",
        "data = np.array([2, 5, 10, 15, 20]).reshape(-1, 1)  # Reshape for sklearn\n",
        "\n",
        "# Initialize the scaler\n",
        "scaler = MinMaxScaler()\n",
        "\n",
        "# Fit and transform the data\n",
        "scaled_data = scaler.fit_transform(data)\n",
        "\n",
        "# Print the scaled array (flattened for easier reading)\n",
        "print(scaled_data.flatten())\n"
      ],
      "metadata": {
        "colab": {
          "base_uri": "https://localhost:8080/"
        },
        "id": "YgfPfuV4cL7z",
        "outputId": "6c5abdb2-ffd3-47d4-cf8c-8943e597e8ff"
      },
      "execution_count": 5,
      "outputs": [
        {
          "output_type": "stream",
          "name": "stdout",
          "text": [
            "[0.         0.16666667 0.44444444 0.72222222 1.        ]\n"
          ]
        }
      ]
    },
    {
      "cell_type": "code",
      "source": [],
      "metadata": {
        "id": "ohBEBfoMcQUS"
      },
      "execution_count": null,
      "outputs": []
    },
    {
      "cell_type": "markdown",
      "source": [
        "10. You are working as a data scientist for a retail company. You receive a customer\n",
        "transaction dataset that contains:\n",
        "● Missing ages,\n",
        "● Outliers in transaction amount,\n",
        "● A highly imbalanced target (fraud vs. non-fraud),\n",
        "● Categorical variables like payment method.\n",
        "Explain the step-by-step data preparation plan you’d follow before training a machine learning\n",
        "model. Include how you’d address missing data, outliers, imbalance, and encoding.\n",
        "ANSWER\n",
        "\n",
        "\n",
        "---\n",
        "\n",
        "### 1. **Initial Data Exploration**\n",
        "\n",
        "* **Understand the data**: Check the dataset structure, types of variables, summary statistics, and missing values.\n",
        "* **Visualize**: Use histograms, boxplots, and bar charts to explore distributions, outliers, and class imbalance.\n",
        "\n",
        "---\n",
        "\n",
        "### 2. **Handle Missing Data (Missing Ages)**\n",
        "\n",
        "* **Analyze missingness pattern**: Is the missingness random or related to other features?\n",
        "* **Imputation**:\n",
        "\n",
        "  * For missing ages (numerical), use imputation methods like:\n",
        "\n",
        "    * **Median imputation** (robust to outliers)\n",
        "    * Or predictive imputation (e.g., using regression or KNN imputer) if relationships with other features exist.\n",
        "  * Avoid dropping rows unless missing data is minimal and random.\n",
        "\n",
        "---\n",
        "\n",
        "### 3. **Detect and Handle Outliers (Transaction Amount)**\n",
        "\n",
        "* **Detect outliers**: Use visualization (boxplots) and statistical methods (IQR, z-score).\n",
        "* **Treatment options**:\n",
        "\n",
        "  * **Cap or Winsorize** the outliers (replace extreme values with boundary percentiles).\n",
        "  * Use **log transformation** to reduce skewness if the distribution is heavily skewed.\n",
        "  * Consider robust models or outlier-aware algorithms if appropriate.\n",
        "  * Be cautious—outliers in fraud transactions may be meaningful, so analyze their context.\n",
        "\n",
        "---\n",
        "\n",
        "### 4. **Address Class Imbalance (Fraud vs. Non-Fraud)**\n",
        "\n",
        "* Since fraud cases are usually rare, imbalance is expected.\n",
        "* **Techniques to handle imbalance**:\n",
        "\n",
        "  * **Resampling methods**:\n",
        "\n",
        "    * **Oversampling** the minority class (e.g., SMOTE, ADASYN).\n",
        "    * **Undersampling** the majority class.\n",
        "  * Use **ensemble methods** like Balanced Random Forest or algorithms that support class weighting.\n",
        "  * Evaluate with metrics suitable for imbalance (e.g., precision, recall, F1-score, ROC-AUC).\n",
        "\n",
        "---\n",
        "\n",
        "### 5. **Encode Categorical Variables (Payment Method)**\n",
        "\n",
        "* For nominal categories like payment methods:\n",
        "\n",
        "  * Use **One-Hot Encoding** if there are a few categories.\n",
        "  * If there are many categories, consider **Target Encoding** or **Frequency Encoding** to avoid dimensionality explosion.\n",
        "* Ensure encoding is consistent between training and test datasets.\n",
        "\n",
        "---\n",
        "\n",
        "### 6. **Feature Scaling**\n",
        "\n",
        "* Depending on the algorithm:\n",
        "\n",
        "  * Apply **Min-Max Scaling** or **Standardization** to numerical features like transaction amount and age.\n",
        "  * Some algorithms (e.g., tree-based) may not require scaling.\n",
        "\n",
        "---\n",
        "\n",
        "### 7. **Final Checks and Split**\n",
        "\n",
        "* Split data into training and test sets **before** resampling to avoid data leakage.\n",
        "* Apply all preprocessing steps to the training set, then transform the test set accordingly.\n",
        "* Confirm no missing values or inconsistencies remain.\n",
        "\n",
        "---\n",
        "\n",
        "### Summary:\n",
        "\n",
        "* Impute missing ages thoughtfully (median or predictive).\n",
        "* Handle transaction amount outliers with capping or transformations, considering domain context.\n",
        "* Balance the fraud/non-fraud classes using resampling or algorithmic approaches.\n",
        "* Encode categorical payment methods with one-hot or target encoding.\n",
        "* Scale numerical features if needed.\n",
        "* Always prevent data leakage by careful splitting and consistent transformations.\n",
        "\n",
        "---\n",
        "\n",
        "\n"
      ],
      "metadata": {
        "id": "kOVeznuAcV15"
      }
    }
  ]
}